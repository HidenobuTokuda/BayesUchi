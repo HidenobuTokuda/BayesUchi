{
 "cells": [
  {
   "cell_type": "markdown",
   "metadata": {},
   "source": [
    "# 回帰分析（OLSとベイズ統計）\n",
    "---"
   ]
  },
  {
   "cell_type": "markdown",
   "metadata": {},
   "source": [
    "## 1 OLSによる回帰分析\n",
    "---\n",
    "### 1.1 回帰モデル\n",
    "$$\n",
    "    \\boldsymbol{y} = \\boldsymbol{X} \\boldsymbol{\\beta} + \\boldsymbol{\\epsilon}　\\\\\n",
    "    ここで、\n",
    "        \\boldsymbol{y} = \\left( \\begin{array}{c}\n",
    "                       y_1 \\\\\n",
    "                       \\vdots \\\\\n",
    "                       y_n\n",
    "                     \\end{array} \\right), \\ \\ \n",
    "    \\boldsymbol{X} = \\left( \\begin{array}{ccc}\n",
    "                       x_{11} & \\ldots & x_{1K} \\\\\n",
    "                       \\vdots & \\ddots & \\vdots \\\\\n",
    "                       x_{n1} & \\ldots & x_{nK}\n",
    "                     \\end{array} \\right), \\ \\ \n",
    "    \\boldsymbol{\\beta} = \\left( \\begin{array}{c}\n",
    "                       \\beta_1 \\\\\n",
    "                       \\vdots \\\\\n",
    "                       \\beta_n\n",
    "                     \\end{array} \\right), \\ \\ \n",
    "    \\boldsymbol{\\epsilon} = \\left( \\begin{array}{c}\n",
    "                       \\epsilon_1 \\\\\n",
    "                       \\vdots \\\\\n",
    "                       \\epsilon_n\n",
    "                     \\end{array} \\right) \\ \\  \n",
    "$$\n",
    "\n",
    "### 1.2 最小二乗法（OLS)\n",
    "$$\n",
    "    \\newcommand{\\argmin}{\\mathop{\\rm arg~min}\\limits}\n",
    "    \\begin{eqnarray}\n",
    "      \\boldsymbol{\\hat{\\beta}} &=& \\argmin_\\boldsymbol{\\beta} \\left\\{ \\left( \\boldsymbol{y} - \\boldsymbol{X} \\boldsymbol{\\beta} \\right)^\\prime \\left( \\boldsymbol{y} - \\boldsymbol{X} \\boldsymbol{\\beta} \\right) \\right\\} \\\\\n",
    "                  &=& \\argmin_\\boldsymbol{\\beta} \\left\\{ \\left( \\boldsymbol{y}^\\prime - \\left( \\boldsymbol{X} \\boldsymbol{\\beta} \\right)^\\prime \\right) \\left( \\boldsymbol{y} - \\boldsymbol{X} \\boldsymbol{\\beta} \\right) \\right\\} \\\\\n",
    "                                    &=& \\argmin_\\boldsymbol{\\beta} \\left\\{ \\left( \\boldsymbol{y}^\\prime - \\boldsymbol{\\beta}^\\prime \\boldsymbol{X}^\\prime \\right) \\left( \\boldsymbol{y} - \\boldsymbol{X} \\boldsymbol{\\beta} \\right) \\right\\} \\\\\n",
    "                                    &=& \\argmin_\\boldsymbol{\\beta} \\left( \\boldsymbol{y}^\\prime \\boldsymbol{y} - \\boldsymbol{y}^\\prime \\boldsymbol{X} \\boldsymbol{\\beta} - \\boldsymbol{\\beta}^\\prime \\boldsymbol{X}^\\prime \\boldsymbol{y} + \\boldsymbol{\\beta}^\\prime \\boldsymbol{X}^\\prime \\boldsymbol{X} \\boldsymbol{\\beta} \\right) \\\\\n",
    "                                    &=& \\argmin_\\boldsymbol{\\beta} \\left( \\boldsymbol{y}^\\prime \\boldsymbol{y} - 2\\boldsymbol{y}^\\prime \\boldsymbol{X} \\boldsymbol{\\beta} + \\boldsymbol{\\beta}^\\prime \\boldsymbol{X}^\\prime \\boldsymbol{X} \\boldsymbol{\\beta} \\right) \\\\\n",
    "                                    &=& \\argmin_\\boldsymbol{\\beta} \\left\\{ \\mathrm{Tr}\\left( \\boldsymbol{y}^\\prime \\boldsymbol{y} - 2\\boldsymbol{y}^\\prime \\boldsymbol{X} \\boldsymbol{\\beta} + \\boldsymbol{\\beta}^\\prime \\boldsymbol{X}^\\prime \\boldsymbol{X} \\boldsymbol{\\beta} \\right) \\right\\} \\\\\n",
    "                                    &=& \\argmin_\\boldsymbol{\\beta} \\left\\{ \\mathrm{Tr} \\left( \\boldsymbol{y}^\\prime \\boldsymbol{y} \\right) - \\mathrm{Tr} \\left( 2\\boldsymbol{y}^\\prime \\boldsymbol{X} \\boldsymbol{\\beta} \\right) + \\mathrm{Tr} \\left( \\boldsymbol{\\beta}^\\prime \\boldsymbol{X}^\\prime \\boldsymbol{X} \\boldsymbol{\\beta} \\right) \\right\\} \\\\\n",
    "                                    &=& \\left[ \\boldsymbol{\\beta} \\mid \\frac{ d \\left\\{ \\mathrm{Tr} \\left( \\boldsymbol{y}^\\prime \\boldsymbol{y} \\right) - \\mathrm{Tr} \\left( 2\\boldsymbol{y}^\\prime \\boldsymbol{X} \\boldsymbol{\\beta} \\right) + \\mathrm{Tr} \\left( \\boldsymbol{\\beta}^\\prime \\boldsymbol{X}^\\prime \\boldsymbol{X} \\boldsymbol{\\beta} \\right) \\right\\}}{d\\boldsymbol{\\beta}} = 0 \\right] \\\\\n",
    "                                    &=& \\left( \\boldsymbol{\\beta} \\mid -2 \\boldsymbol{X}^\\prime \\boldsymbol{y} + 2 \\boldsymbol{X}^\\prime \\boldsymbol{X} \\boldsymbol{\\beta} = 0 \\right) \\\\\n",
    "                                    &=& \\left( \\boldsymbol{\\beta} \\mid \\boldsymbol{X}^\\prime \\boldsymbol{X} \\boldsymbol{\\beta} =  \\boldsymbol{X}^\\prime \\boldsymbol{y} \\right) \\\\\n",
    "                                    &=& \\left( \\boldsymbol{X}^\\prime \\boldsymbol{X} \\right)^{-1} \\boldsymbol{X}^\\prime \\boldsymbol{y}\n",
    "    \\end{eqnarray}\n",
    "$$\n",
    "\n",
    "### 1.3 利用したテクニック\n",
    "#### 1.3.1 Trace（行列の対角和）の定義\n",
    "$$\n",
    "\\mathrm{Tr} \\left( \\boldsymbol{A} \\right) = \\mathrm{Tr} \\left( \\begin{array}{ccc}\n",
    "                                           a_{11} & \\ldots & a_{1N} \\\\\n",
    "                                           \\vdots & \\ddots & \\vdots \\\\\n",
    "                                           a_{N1} & \\ldots & a_{NN}\n",
    "                                           \\end{array} \\right)\n",
    "                           = \\sum_{i=1}^N a_{ii}\n",
    "$$\n",
    "\n",
    "#### 1.3.2 Trace（行列の対角和）の公式\n",
    "$$ \\mathrm{Tr} \\left( \\boldsymbol{A+B} \\right) = \\mathrm{Tr} \\left( \\boldsymbol{A} \\right) + \\mathrm{Tr} \\left( \\boldsymbol{B} \\right) $$\n",
    "\n",
    "#### 1.3.3 行列の微分（Trace利用）\n",
    "$$\n",
    "\\begin{eqnarray}\n",
    "  \\frac{d \\ \\mathrm{Tr} \\left( \\boldsymbol{AX} \\right) }{d \\boldsymbol{X}} &=& \\boldsymbol{A^\\prime},　\\boldsymbol{X}が非対称の場合（ベクトルの場合を含む）\\\\\n",
    "  \\frac{d \\ \\mathrm{Tr} \\left( \\boldsymbol{X^\\prime AX} \\right) }{d \\boldsymbol{X}} &=& \\boldsymbol{\\left(A+A^\\prime\\right)X},　\\boldsymbol{X}が非対称の場合（ベクトルの場合を含む） \\\\\n",
    "  &=& 2 \\boldsymbol{AX},　\\boldsymbol{A}が対称行列、\\boldsymbol{X}が非対称の場合（ベクトルの場合を含む）\n",
    "\\end{eqnarray}\n",
    "$$"
   ]
  },
  {
   "cell_type": "markdown",
   "metadata": {},
   "source": [
    "### 1.4 データ分析\n",
    "#### 1.4.1 ディレクトリ変更\n",
    "* *UserDirectory*は、各自のディレクトリに変更が必要"
   ]
  },
  {
   "cell_type": "code",
   "execution_count": 1,
   "metadata": {
    "collapsed": false
   },
   "outputs": [],
   "source": [
    "cd \"UserDirectory\""
   ]
  },
  {
   "cell_type": "markdown",
   "metadata": {},
   "source": [
    "#### 1.4.2 データ読み込み\n",
    "* ダイアモンドに関するデータ\n",
    "    * [フロリダ州立大学](https://people.sc.fsu.edu/~jburkardt/datasets/triola/triola.html)よりダウンロード\n",
    "* データセットの構成\n",
    "\n",
    "|列1|列2|列3|列4|列5|列6\n",
    "|-\n",
    "|PRICE|CARAT|DEPTH|TABLE|COLOR|CLARITY"
   ]
  },
  {
   "cell_type": "code",
   "execution_count": 2,
   "metadata": {
    "collapsed": false
   },
   "outputs": [],
   "source": [
    "clear all;\n",
    "data = csvread(\"diamonds.csv\")(2:end,:);"
   ]
  },
  {
   "cell_type": "markdown",
   "metadata": {},
   "source": [
    "#### 1.4.3 データ確認（散布図）\n",
    "* scatter()関数は、なぜかjupyterではうまく動かないので、plot()関数を使用"
   ]
  },
  {
   "cell_type": "code",
   "execution_count": 3,
   "metadata": {
    "collapsed": false
   },
   "outputs": [
    {
     "data": {
      "image/png": "[encoded data removed]",
      "text/plain": [
       "<IPython.core.display.Image object>"
      ]
     },
     "metadata": {},
     "output_type": "display_data"
    }
   ],
   "source": [
    "plot(data(:,2),data(:,1),\".\")"
   ]
  },
  {
   "cell_type": "markdown",
   "metadata": {},
   "source": [
    "#### 1.4.4 回帰係数の計算"
   ]
  },
  {
   "cell_type": "code",
   "execution_count": 4,
   "metadata": {
    "collapsed": false
   },
   "outputs": [
    {
     "name": "stdout",
     "output_type": "stream",
     "text": [
      "b_hat =\n",
      "  -6.1576e+003\n",
      "  1.2201e+004\n"
     ]
    }
   ],
   "source": [
    "n = rows(data);\n",
    "\n",
    "y = data(:,1);\n",
    "X = [ones(n,1),data(:,2)];\n",
    "\n",
    "b_hat = inv(X'*X)*X'*y"
   ]
  },
  {
   "cell_type": "markdown",
   "metadata": {},
   "source": [
    "#### 1.4.5 理論値の計算"
   ]
  },
  {
   "cell_type": "code",
   "execution_count": 5,
   "metadata": {
    "collapsed": false
   },
   "outputs": [
    {
     "name": "stdout",
     "output_type": "stream",
     "text": [
      "ans =\n",
      "  6.9580e+003  6.0429e+003\n",
      "  5.8850e+003  6.0429e+003\n",
      "  6.3330e+003  6.1649e+003\n",
      "  4.2990e+003  6.1649e+003\n",
      "  9.5890e+003  6.2869e+003\n",
      "  6.9210e+003  6.5309e+003\n",
      "  4.4260e+003  6.5309e+003\n",
      "  6.8850e+003  6.8969e+003\n",
      "  5.8260e+003  6.8969e+003\n",
      "  3.6700e+003  7.3849e+003\n",
      "  7.1760e+003  7.5069e+003\n",
      "  7.4970e+003  7.9949e+003\n",
      "  5.1700e+003  8.4830e+003\n",
      "  5.5470e+003  8.8490e+003\n",
      "  1.8596e+004  9.0930e+003\n",
      "  7.5210e+003  9.5810e+003\n",
      "  7.2600e+003  1.2143e+004\n",
      "  8.1390e+003  1.2265e+004\n",
      "  1.2196e+004  1.4217e+004\n",
      "  1.4998e+004  1.4827e+004\n",
      "  9.7360e+003  1.5315e+004\n",
      "  9.8590e+003  1.5803e+004\n",
      "  1.2398e+004  1.6779e+004\n",
      "  2.5322e+004  1.8609e+004\n",
      "  1.1008e+004  1.8609e+004\n",
      "  3.8794e+004  1.8975e+004\n",
      "  6.6780e+004  3.0444e+004\n",
      "  4.6769e+004  4.2766e+004\n",
      "  2.8800e+004  4.2766e+004\n",
      "  2.8868e+004  4.3254e+004\n"
     ]
    }
   ],
   "source": [
    "yy = X*b_hat;\n",
    "[y,yy]"
   ]
  },
  {
   "cell_type": "code",
   "execution_count": 6,
   "metadata": {
    "collapsed": false
   },
   "outputs": [
    {
     "data": {
      "image/png": "[encoded data removed]",
      "text/plain": [
       "<IPython.core.display.Image object>"
      ]
     },
     "metadata": {},
     "output_type": "display_data"
    }
   ],
   "source": [
    "plot(X(:,2),yy)\n",
    "hold on\n",
    "plot(X(:,2),y,\".\")"
   ]
  },
  {
   "cell_type": "markdown",
   "metadata": {},
   "source": [
    "## 2 ベイズ統計による回帰分析\n",
    "---\n",
    "### 2.1 回帰モデル\n",
    "$$\n",
    "    \\boldsymbol{y} = \\boldsymbol{X} \\boldsymbol{\\beta} + \\boldsymbol{\\epsilon}　\\\\\n",
    "    ここで、\n",
    "        \\boldsymbol{y} = \\left( \\begin{array}{c}\n",
    "                       y_1 \\\\\n",
    "                       \\vdots \\\\\n",
    "                       y_n\n",
    "                     \\end{array} \\right), \\ \\ \n",
    "    \\boldsymbol{X} = \\left( \\begin{array}{ccc}\n",
    "                       x_{11} & \\ldots & x_{1K} \\\\\n",
    "                       \\vdots & \\ddots & \\vdots \\\\\n",
    "                       x_{n1} & \\ldots & x_{nK}\n",
    "                     \\end{array} \\right), \\ \\ \n",
    "    \\boldsymbol{\\beta} = \\left( \\begin{array}{c}\n",
    "                       \\beta_1 \\\\\n",
    "                       \\vdots \\\\\n",
    "                       \\beta_n\n",
    "                     \\end{array} \\right), \\ \\ \n",
    "    \\boldsymbol{\\epsilon} = \\left( \\begin{array}{c}\n",
    "                       \\epsilon_1 \\\\\n",
    "                       \\vdots \\\\\n",
    "                       \\epsilon_n\n",
    "                     \\end{array} \\right) \\ \\  \n",
    "$$"
   ]
  },
  {
   "cell_type": "markdown",
   "metadata": {},
   "source": [
    "### 2.2 尤度関数\n",
    "#### 2.2.1 誤差項の仮定\n",
    "$$\n",
    "\\begin{eqnarray}\n",
    "  \\boldsymbol{\\epsilon}|\\sigma^2 &\\sim& \\mathcal {N}(\\boldsymbol{0},\\sigma^2 \\boldsymbol{I_n}) \\\\\n",
    "  \\Rightarrow   \\boldsymbol{y}|\\boldsymbol{\\beta},\\sigma^2 &\\sim& \\mathcal {N}(\\boldsymbol{X \\beta},\\sigma^2 \\boldsymbol{I_n}) \\\\\n",
    "\\end{eqnarray}\n",
    "$$\n",
    "#### 2.2.2 尤度関数（＋変形）\n",
    "$$\n",
    "\\begin{eqnarray}\n",
    "  f \\left( \\boldsymbol{y} | \\boldsymbol{\\beta}, \\sigma^2 \\right) &=& \\left(2\\pi\\right)^{-n/2} \\left|\\sigma^2 I_n\\right|^{-1/2}\n",
    "                                     \\exp \\left\\{ -\\frac{1}{2} \\left( \\boldsymbol{y}-\\boldsymbol{X\\beta} \\right)^\\prime \\left( \\sigma^2 \\boldsymbol{I_n} \\right) ^{-1} \\left( \\boldsymbol{y}-\\boldsymbol{X\\beta} \\right) \\right\\} \\\\\n",
    "                                     &\\propto& \\sigma^{-n} \\exp \\left\\{ -\\frac{\\sigma^{-2}}{2} \\left( \\boldsymbol{y}- \\boldsymbol{X\\beta} \\right)^\\prime  \\left( \\boldsymbol{y}-\\boldsymbol{X\\beta} \\right) \\right\\} \\\\\n",
    "                                     &\\propto& \\sigma^{-n} \\exp \\left\\{ -\\frac{\\sigma^{-2}}{2} \\left( \\boldsymbol{y^\\prime}-\\boldsymbol{\\beta^\\prime X^\\prime} \\right) \\left( \\boldsymbol{y}-\\boldsymbol{X\\beta} \\right) \\right\\} \\\\\n",
    "                                     &\\propto& \\sigma^{-n} \\exp \\left\\{ -\\frac{\\sigma^{-2}}{2} \\left( \\boldsymbol{y^\\prime y} - \\boldsymbol{y^\\prime X\\beta} - \\boldsymbol{\\beta^\\prime X^\\prime y} + \\boldsymbol{\\beta^\\prime X^\\prime X\\beta} \\right) \\right\\} \\\\\n",
    "                                     &\\propto& \\sigma^{-n} \\exp \\left[ -\\frac{\\sigma^{-2}}{2} \\left\\{ \\boldsymbol{y^\\prime y} - \\boldsymbol{y^\\prime X \\left(X^\\prime X\\right)^{-1}\\left(X^\\prime X\\right) \\beta} - \\boldsymbol{\\beta^\\prime \\left(X^\\prime X\\right) \\left(X^\\prime X\\right)^{-1} X^\\prime y} + \\boldsymbol{\\beta^\\prime X^\\prime X\\beta} \\right\\} \\right] \\\\\n",
    "                                     &\\propto& \\sigma^{-n} \\exp \\left[ -\\frac{\\sigma^{-2}}{2} \\left\\{ \\boldsymbol{y^\\prime y} - \\boldsymbol{\\hat{\\beta}^\\prime \\left(X^\\prime X\\right) \\beta} - \\boldsymbol{\\beta^\\prime \\left(X^\\prime X\\right) \\hat{\\beta}} + \\boldsymbol{\\beta^\\prime X^\\prime X\\beta} \\right\\} \\right] \\\\\n",
    "                                     &\\propto& \\sigma^{-n} \\exp \\left[ -\\frac{\\sigma^{-2}}{2} \n",
    "                                      \\left\\{ \\boldsymbol{\\beta^\\prime X^\\prime X \\left( \\beta - \\hat{\\beta} \\right) } - \\boldsymbol{\\hat{\\beta}^\\prime \\left(X^\\prime X\\right) \\beta}  + \\boldsymbol{y^\\prime y}  \\right\\} \\right] \\\\\n",
    "                                     &\\propto& \\sigma^{-n} \\exp \\left[ -\\frac{\\sigma^{-2}}{2} \n",
    "                                      \\left\\{ \\boldsymbol{\\beta^\\prime X^\\prime X \\left( \\beta - \\hat{\\beta} \\right) } - \\boldsymbol{\\hat{\\beta}^\\prime \\left(X^\\prime X\\right) \\beta} + \\boldsymbol{\\hat{\\beta}^\\prime \\left(X^\\prime X\\right) \\hat{\\beta}} - \\boldsymbol{\\hat{\\beta}^\\prime \\left(X^\\prime X\\right) \\hat{\\beta}} + \\boldsymbol{y^\\prime y}  \\right\\} \\right] \\\\\n",
    "                                     &\\propto& \\sigma^{-n} \\exp \\left[ -\\frac{\\sigma^{-2}}{2} \n",
    "                                      \\left\\{ \\boldsymbol{\\beta^\\prime X^\\prime X \\left( \\beta - \\hat{\\beta} \\right) } - \\boldsymbol{\\hat{\\beta}^\\prime \\left(X^\\prime X\\right) \\left( \\beta - \\hat{\\beta} \\right)} - \\boldsymbol{\\hat{\\beta}^\\prime \\left(X^\\prime X\\right) \\hat{\\beta}} + \\boldsymbol{y^\\prime y}  \\right\\} \\right] \\\\\n",
    "                                     &\\propto& \\sigma^{-n} \\exp \\left[ -\\frac{\\sigma^{-2}}{2} \n",
    "                                      \\left\\{ \\boldsymbol{ \\left(\\beta^\\prime - \\hat{\\beta}^\\prime \\right) X^\\prime X \\left( \\beta - \\hat{\\beta} \\right) } - \\boldsymbol{\\hat{\\beta}^\\prime \\left(X^\\prime X\\right) \\hat{\\beta}} + \\boldsymbol{y^\\prime y}  \\right\\} \\right] \\\\\n",
    "                                     &\\propto& \\sigma^{-n} \\exp \\left[ -\\frac{\\sigma^{-2}}{2} \n",
    "                                      \\left\\{ \\boldsymbol{ \\left(\\beta - \\hat{\\beta}\\right)^\\prime X^\\prime X \\left( \\beta - \\hat{\\beta} \\right) } -2 \\boldsymbol{\\hat{\\beta}^\\prime \\left(X^\\prime X\\right) \\hat{\\beta}} + \\boldsymbol{\\hat{\\beta}^\\prime \\left(X^\\prime X\\right) \\hat{\\beta}} + \\boldsymbol{y^\\prime y}  \\right\\} \\right] \\\\\n",
    "                                     &\\propto& \\sigma^{-n} \\exp \\left[ -\\frac{\\sigma^{-2}}{2} \n",
    "                                      \\left\\{ \\boldsymbol{ \\left(\\beta - \\hat{\\beta}\\right)^\\prime X^\\prime X \\left( \\beta - \\hat{\\beta} \\right) } - \\boldsymbol{\\hat{\\beta}^\\prime X^\\prime y} - \\boldsymbol{y^\\prime X \\hat{\\beta}} + \\boldsymbol{\\hat{\\beta}^\\prime \\left(X^\\prime X\\right) \\hat{\\beta}} + \\boldsymbol{y^\\prime y}  \\right\\} \\right] \\\\\n",
    "                                     &\\propto& \\sigma^{-n} \\exp \\left[ -\\frac{\\sigma^{-2}}{2} \n",
    "                                      \\left\\{ \\boldsymbol{ \\left(\\beta - \\hat{\\beta}\\right)^\\prime X^\\prime X \\left( \\beta - \\hat{\\beta} \\right) } + \\boldsymbol{ \\left(y-X\\hat{\\beta}\\right)^\\prime \\left(y-X\\hat{\\beta}\\right) }  \\right\\} \\right] \\\\\n",
    "\\end{eqnarray}\n",
    "$$"
   ]
  },
  {
   "cell_type": "markdown",
   "metadata": {},
   "source": [
    "### 2.3 事前分布\n",
    "#### 2.3.1 各パラメータの事前分布\n",
    "$$\n",
    "\\begin{eqnarray}\n",
    "  \\beta \\mid \\sigma^2 &\\sim& \\mathcal{N} \\left(\\boldsymbol{b_0},\\sigma^2 \\boldsymbol{B_0} \\right),\\\\\n",
    "  \\sigma^2 &\\sim& \\mathcal{IG} \\left(\\frac{n_0}{2},\\frac{n_0 S_0}{2} \\right)\n",
    "\\end{eqnarray}\n",
    "$$\n",
    "#### 2.3.2 同時事前分布\n",
    "$$\n",
    "\\begin{eqnarray}\n",
    " \\pi \\left( \\beta,\\sigma^2 \\right) &=& \\pi \\left( \\beta | \\sigma^2 \\right) \\pi \\left(\\sigma^2 \\right) \\\\\n",
    "                                 &=& \\left(2\\pi\\right)^{-K/2} \\left|\\sigma^2 B_0\\right|^{-1/2}\n",
    "                                     \\exp \\left\\{ -\\frac{1}{2} \\left( \\beta-b_0 \\right)^\\prime \\left( \\sigma^2 B_0 \\right)^{-1} \\left( \\beta-b_0 \\right) \\right\\} \\\\\n",
    "                                 & & \\times \\frac{\\left(\\frac{n_0S_0}{2}\\right)^{\\frac{n_0}{2}}}{\\Gamma \\left( \\frac{n_0}{2} \\right)} \\sigma^{-2 \\left( \\frac{n_0}{2}+1 \\right) } \\exp \\left\\{ - \\frac{n_0S_0}{2} \\sigma^{-2} \\right\\} \\\\\n",
    "                                 & \\propto & \\left|\\sigma^2 B_0\\right|^{-1/2}\n",
    "                                     \\exp \\left\\{ -\\frac{1}{2} \\left( \\beta-b_0 \\right)^\\prime \\left( \\sigma^2 B_0 \\right)^{-1} \\left( \\beta-b_0 \\right) \\right\\} \\\\\n",
    "                                     & & \\times \\sigma^{ -2 \\left( \\frac{n_0}{2}+1 \\right) } \\exp \\left\\{ - \\frac{n_0S_0}{2} \\sigma^{-2} \\right\\} \\\\\n",
    "                                     & \\propto & \\sigma^{-K} \\sigma^{-2 \\left( \\frac{n_0}{2}+1 \\right) } \n",
    "                                     \\exp \\left\\{ -\\frac{1}{2} \\left( \\beta-b_0 \\right)^\\prime \\left( \\sigma^2 B_0 \\right) ^{-1} \\left( \\beta-b_0 \\right) - \\frac{n_0S_0}{2} \\sigma^{-2} \\right\\} \\\\\n",
    "                                     & \\propto & \\sigma^{-2 \\left[ \\left(n_0 + K \\right) /2 + 1 \\right]}\n",
    "                                     \\exp \\left[ -\\frac{\\sigma^{-2}}{2} \\left\\{ n_0S_0 + \\left( \\beta-b_0 \\right)^\\prime B_0^{-1} \\left( \\beta-b_0 \\right) \\right\\} \\right]\n",
    "\\end{eqnarray}\n",
    "$$"
   ]
  },
  {
   "cell_type": "markdown",
   "metadata": {},
   "source": [
    "### 2.4 事後分布\n",
    "#### 2.4.1 同時事後分布\n",
    "$$\n",
    "\\begin{eqnarray}\n",
    "  \\pi \\left( \\beta,\\sigma^2 \\mid y \\right) &\\propto& f\\left(y \\mid \\beta,\\sigma^2 \\right) \\pi \\left(\\beta,\\sigma^2\\right) \\\\\n",
    "  &\\propto& \\sigma^{-n} \\exp \\left[ -\\frac{\\sigma^{-2}}{2} \n",
    "    \\left\\{ \\boldsymbol{ \\left(\\beta - \\hat{\\beta}\\right)^\\prime X^\\prime X \\left( \\beta - \\hat{\\beta} \\right) } + \\boldsymbol{ \\left(y-X\\hat{\\beta}\\right)^\\prime \\left(y-X\\hat{\\beta}\\right) }  \\right\\} \\right] \\\\\n",
    "  & &  \\times \\sigma^{-2 \\left[ \\left(n_0 + K \\right) /2 + 1 \\right]}\n",
    "    \\exp \\left[ -\\frac{\\sigma^{-2}}{2} \\left\\{ n_0S_0 + \\left( \\beta-b_0 \\right)^\\prime B_0^{-1} \\left( \\beta-b_0 \\right) \\right\\} \\right] \\\\\n",
    "  &\\propto& \\sigma^{-2 \\left[ \\left(n_0 + n + K \\right) /2 + 1 \\right]} \n",
    "    \\exp \\left[ -\\frac{\\sigma^{-2}}{2} \n",
    "    \\left\\{ \\boldsymbol{ \\left(\\beta - \\hat{\\beta}\\right)^\\prime X^\\prime X \\left( \\beta - \\hat{\\beta} \\right) } + \\boldsymbol{ \\left(y-X\\hat{\\beta}\\right)^\\prime \\left(y-X\\hat{\\beta}\\right) }  \\\\\n",
    "  + n_0S_0 + \\left( \\beta-b_0 \\right)^\\prime B_0^{-1} \\left( \\beta-b_0 \\right) \\right\\} \\right] \\\\\n",
    "  &\\propto& \\sigma^{-2 \\left[ \\left(n_0 + n + K \\right) /2 + 1 \\right]} \n",
    "    \\exp \\left[ -\\frac{\\sigma^{-2}}{2} \n",
    "    \\left\\{ \\boldsymbol{ \\beta^\\prime X^\\prime X \\beta - \\beta^\\prime X^\\prime X\\hat{\\beta} - \\hat{\\beta}^\\prime X^\\prime X \\beta + \\hat{\\beta}^\\prime X^\\prime X \\hat{\\beta} } \\\\\n",
    "  + \\boldsymbol{ y^\\prime y - y^\\prime X\\hat{\\beta} - \\hat{\\beta}^\\prime X^\\prime y + \\hat{\\beta}^\\prime X^\\prime X\\hat{\\beta} }  \\\\\n",
    "  + n_0S_0 + \\beta^\\prime B_0^{-1} \\beta - \\beta^\\prime B_0^{-1} b_0 - b_0^\\prime B_0^{-1} \\beta + b_0^\\prime B_0^{-1} b_0  \\right\\} \\right] \\\\\n",
    "  &\\propto& \\sigma^{-2 \\left[ \\left(n_0 + n + K \\right) /2 + 1 \\right]} \n",
    "    \\exp \\left[ -\\frac{\\sigma^{-2}}{2} \n",
    "    \\left\\{ \\boldsymbol{ \\beta^\\prime \\left( X^\\prime X + B_0^{-1} \\right) \\beta - \\beta^\\prime \\left( X^\\prime X\\hat{\\beta} + B_0^{-1} b_0 \\right) - \\left( \\hat{\\beta}^\\prime X^\\prime X + b_0^\\prime B_0^{-1} \\right) \\beta \\\\\n",
    "    + \\hat{\\beta}^\\prime X^\\prime X \\hat{\\beta} } + \\boldsymbol{ y^\\prime y - y^\\prime X\\hat{\\beta} - \\hat{\\beta}^\\prime X^\\prime y + \\hat{\\beta}^\\prime X^\\prime X\\hat{\\beta} } + n_0S_0 + b_0^\\prime B_0^{-1} b_0  \\right\\} \\right] \\\\\n",
    "  &\\propto& \\sigma^{-2 \\left[ \\left(n_0 + n + K \\right) /2 + 1 \\right]} \n",
    "    \\exp \\left[ -\\frac{\\sigma^{-2}}{2} \n",
    "    \\left\\{ \\boldsymbol{ \\beta^\\prime \\left( X^\\prime X + B_0^{-1} \\right) \\beta - \\beta^\\prime \\left( X^\\prime X + B_0^{-1} \\right) \\left( X^\\prime X + B_0^{-1} \\right)^{-1} \\left( X^\\prime X\\hat{\\beta} + B_0^{-1} b_0 \\right) \\\\\n",
    "    - \\left( \\hat{\\beta}^\\prime X^\\prime X + b_0^\\prime B_0^{-1} \\right) \\beta \\\\\n",
    "    + \\hat{\\beta}^\\prime X^\\prime X \\hat{\\beta} } + \\boldsymbol{ y^\\prime y - y^\\prime X\\hat{\\beta} - \\hat{\\beta}^\\prime X^\\prime y + \\hat{\\beta}^\\prime X^\\prime X\\hat{\\beta} } + n_0S_0 + b_0^\\prime B_0^{-1} b_0  \\right\\} \\right] \\\\\n",
    "  &\\propto& \\sigma^{-2 \\left[ \\left(n_0 + n + K \\right) /2 + 1 \\right]} \n",
    "    \\exp \\left[ -\\frac{\\sigma^{-2}}{2} \n",
    "    \\left\\{ \\boldsymbol{ \\beta^\\prime \\left( X^\\prime X + B_0^{-1} \\right) \\left\\{ \\beta - \\left( X^\\prime X + B_0^{-1} \\right)^{-1} \\left( X^\\prime X\\hat{\\beta} + B_0^{-1} b_0 \\right) \\right\\} \\\\\n",
    "    - \\left( \\hat{\\beta}^\\prime X^\\prime X + b_0^\\prime B_0^{-1} \\right) \\beta \\\\\n",
    "    + \\hat{\\beta}^\\prime X^\\prime X \\hat{\\beta} } + \\boldsymbol{ y^\\prime y - y^\\prime X\\hat{\\beta} - \\hat{\\beta}^\\prime X^\\prime y + \\hat{\\beta}^\\prime X^\\prime X\\hat{\\beta} } + n_0S_0 + b_0^\\prime B_0^{-1} b_0  \\right\\} \\right] \\\\\n",
    "  &\\propto& \\sigma^{-2 \\left[ \\left(n_0 + n + K \\right) /2 + 1 \\right]} \n",
    "    \\exp \\left[ -\\frac{\\sigma^{-2}}{2} \n",
    "    \\left\\{ \\boldsymbol{ \\beta^\\prime \\left( X^\\prime X + B_0^{-1} \\right) \\left\\{ \\beta - \\left( X^\\prime X + B_0^{-1} \\right)^{-1} \\left( X^\\prime X\\hat{\\beta} + B_0^{-1} b_0 \\right) \\right\\} \\\\\n",
    "    - \\left( \\hat{\\beta}^\\prime X^\\prime X + b_0^\\prime B_0^{-1} \\right) \\left( X^\\prime X + B_0^{-1} \\right)^{-1} \\left( X^\\prime X + B_0^{-1} \\right) \\left\\{ \\beta - \\left( X^\\prime X + B_0^{-1} \\right)^{-1} \\left( X^\\prime X\\hat{\\beta} + B_0^{-1} b_0 \\right) \\right\\} \\\\\n",
    "    - \\left( \\hat{\\beta}^\\prime X^\\prime X + b_0^\\prime B_0^{-1} \\right)\\left( X^\\prime X + B_0^{-1} \\right)^{-1} \\left( X^\\prime X\\hat{\\beta} + B_0^{-1} b_0 \\right) \\\\\n",
    "    + \\hat{\\beta}^\\prime X^\\prime X \\hat{\\beta} } + \\boldsymbol{ y^\\prime y - y^\\prime X\\hat{\\beta} - \\hat{\\beta}^\\prime X^\\prime y + \\hat{\\beta}^\\prime X^\\prime X\\hat{\\beta} } + n_0S_0 + b_0^\\prime B_0^{-1} b_0  \\right\\} \\right] \\\\\n",
    "  &\\propto& \\sigma^{-2 \\left[ \\left(n_0 + n + K \\right) /2 + 1 \\right]} \n",
    "    \\exp \\left[ -\\frac{\\sigma^{-2}}{2} \\left\\{\\\\\n",
    "     \\boldsymbol{ \\left\\{\\beta^\\prime - \\left( \\hat{\\beta}^\\prime X^\\prime X + b_0^\\prime B_0^{-1} \\right) \\left( X^\\prime X + B_0^{-1} \\right)^{-1} \\right\\} \\left( X^\\prime X + B_0^{-1} \\right) \\left\\{ \\beta - \\left( X^\\prime X + B_0^{-1} \\right)^{-1} \\left( X^\\prime X\\hat{\\beta} + B_0^{-1} b_0 \\right) \\right\\} \\\\\n",
    "    - \\left( \\hat{\\beta}^\\prime X^\\prime X + b_0^\\prime B_0^{-1} \\right)\\left( X^\\prime X + B_0^{-1} \\right)^{-1} \\left( X^\\prime X\\hat{\\beta} + B_0^{-1} b_0 \\right) \\\\\n",
    "    + \\hat{\\beta}^\\prime X^\\prime X \\hat{\\beta} } + \\boldsymbol{ y^\\prime y - y^\\prime X\\hat{\\beta} - \\hat{\\beta}^\\prime X^\\prime y + \\hat{\\beta}^\\prime X^\\prime X\\hat{\\beta} } + n_0S_0 + b_0^\\prime B_0^{-1} b_0  \\right\\} \\right] \\\\\n",
    "  &\\propto& \\sigma^{-2 \\left[ \\left(n_0 + n + K \\right) /2 + 1 \\right]} \n",
    "    \\exp \\left[ -\\frac{\\sigma^{-2}}{2} \\left\\{\\\\\n",
    "     \\boldsymbol{ \\left\\{\\beta^\\prime - \\left( \\hat{\\beta}^\\prime X^\\prime X + b_0^\\prime B_0^{-1} \\right) \\left( X^\\prime X + B_0^{-1} \\right)^{-1} \\right\\} \\left( X^\\prime X + B_0^{-1} \\right) \\left\\{ \\beta - \\left( X^\\prime X + B_0^{-1} \\right)^{-1} \\left( X^\\prime X\\hat{\\beta} + B_0^{-1} b_0 \\right) \\right\\} \\\\\n",
    "    - \\left( \\hat{\\beta}^\\prime X^\\prime X + b_0^\\prime B_0^{-1} \\right)\\left( X^\\prime X + B_0^{-1} \\right)^{-1}X^\\prime X\\hat{\\beta} + y^\\prime y \\\\\n",
    "    - \\left( \\hat{\\beta}^\\prime X^\\prime X + b_0^\\prime B_0^{-1} \\right)\\left( X^\\prime X + B_0^{-1} \\right)^{-1} B_0^{-1} b_0 + b_0^\\prime B_0^{-1} b_0 \\\\\n",
    "    + \\hat{\\beta}^\\prime X^\\prime X \\hat{\\beta} } \\boldsymbol{-y^\\prime X\\hat{\\beta} - \\hat{\\beta}^\\prime X^\\prime y + \\hat{\\beta}^\\prime X^\\prime X\\hat{\\beta} } + n_0S_0  \\right\\} \\right] \\\\\n",
    "  &\\propto& \\sigma^{-2 \\left[ \\left(n_0 + n + K \\right) /2 + 1 \\right]} \n",
    "    \\exp \\left[ -\\frac{\\sigma^{-2}}{2} \\left\\{\\\\\n",
    "     \\boldsymbol{ \\left\\{\\beta^\\prime - \\left( \\hat{\\beta}^\\prime X^\\prime X + b_0^\\prime B_0^{-1} \\right) \\left( X^\\prime X + B_0^{-1} \\right)^{-1} \\right\\} \\left( X^\\prime X + B_0^{-1} \\right) \\left\\{ \\beta - \\left( X^\\prime X + B_0^{-1} \\right)^{-1} \\left( X^\\prime X\\hat{\\beta} + B_0^{-1} b_0 \\right) \\right\\} \\\\\n",
    "    - \\left( \\hat{\\beta}^\\prime X^\\prime X + b_0^\\prime B_0^{-1} \\right)\\left( X^\\prime X + B_0^{-1} \\right)^{-1}X^\\prime X \\left( X^\\prime X \\right)^{-1} X^\\prime y + y^\\prime y \\\\\n",
    "    - \\left( \\hat{\\beta}^\\prime X^\\prime X + b_0^\\prime B_0^{-1} \\right)\\left( X^\\prime X + B_0^{-1} \\right)^{-1} B_0^{-1} b_0 + b_0^\\prime B_0^{-1} b_0 \\\\\n",
    "    + \\hat{\\beta}^\\prime X^\\prime X \\hat{\\beta} } \\boldsymbol{-y^\\prime X\\hat{\\beta} - \\hat{\\beta}^\\prime X^\\prime y + \\hat{\\beta}^\\prime X^\\prime X\\hat{\\beta} } + n_0S_0  \\right\\} \\right] \\\\\n",
    "  &\\propto& \\sigma^{-2 \\left[ \\left(n_0 + n + K \\right) /2 + 1 \\right]} \n",
    "    \\exp \\left[ -\\frac{\\sigma^{-2}}{2} \\left\\{\\\\\n",
    "     \\boldsymbol{ \\left\\{\\beta^\\prime - \\left( \\hat{\\beta}^\\prime X^\\prime X + b_0^\\prime B_0^{-1} \\right) \\left( X^\\prime X + B_0^{-1} \\right)^{-1} \\right\\} \\left( X^\\prime X + B_0^{-1} \\right) \\left\\{ \\beta - \\left( X^\\prime X + B_0^{-1} \\right)^{-1} \\left( X^\\prime X\\hat{\\beta} + B_0^{-1} b_0 \\right) \\right\\} \\\\\n",
    "    + \\left\\{ y^\\prime - \\left( \\hat{\\beta}^\\prime X^\\prime X + b_0^\\prime B_0^{-1} \\right)\\left( X^\\prime X + B_0^{-1} \\right)^{-1} X^\\prime \\right\\} y \\\\\n",
    "    + \\left\\{ b_0^\\prime - \\left( \\hat{\\beta}^\\prime X^\\prime X + b_0^\\prime B_0^{-1} \\right)\\left( X^\\prime X + B_0^{-1} \\right)^{-1} \\right\\} B_0^{-1} b_0 \\\\\n",
    "    + \\hat{\\beta}^\\prime X^\\prime X \\hat{\\beta} } \\boldsymbol{-y^\\prime X\\hat{\\beta} - \\hat{\\beta}^\\prime X^\\prime y + \\hat{\\beta}^\\prime X^\\prime X\\hat{\\beta} } + n_0S_0  \\right\\} \\right] \\\\\n",
    "  &\\propto& \\sigma^{-2 \\left[ \\left(n_0 + n + K \\right) /2 + 1 \\right]} \n",
    "    \\exp \\left[ -\\frac{\\sigma^{-2}}{2} \\left\\{\\\\\n",
    "     \\boldsymbol{ \\left\\{\\beta^\\prime - \\left( \\hat{\\beta}^\\prime X^\\prime X + b_0^\\prime B_0^{-1} \\right) \\left( X^\\prime X + B_0^{-1} \\right)^{-1} \\right\\} \\left( X^\\prime X + B_0^{-1} \\right) \\left\\{ \\beta - \\left( X^\\prime X + B_0^{-1} \\right)^{-1} \\left( X^\\prime X\\hat{\\beta} + B_0^{-1} b_0 \\right) \\right\\} \\\\\n",
    "    + \\left\\{ y^\\prime - \\left( \\hat{\\beta}^\\prime X^\\prime X + b_0^\\prime B_0^{-1} \\right)\\left( X^\\prime X + B_0^{-1} \\right)^{-1} X^\\prime \\right\\} y \\\\\n",
    "    + \\left\\{ b_0^\\prime - \\left( \\hat{\\beta}^\\prime X^\\prime X + b_0^\\prime B_0^{-1} \\right)\\left( X^\\prime X + B_0^{-1} \\right)^{-1} \\right\\} B_0^{-1} b_0 \\\\\n",
    "    + y^\\prime X \\left(X^\\prime X \\right)^{-1} X^\\prime X \\hat{\\beta} } \\boldsymbol{-y^\\prime X\\hat{\\beta} - \\hat{\\beta}^\\prime X^\\prime y + \\hat{\\beta}^\\prime X^\\prime X \\left(X^\\prime X \\right)^{-1} X^\\prime y } + n_0S_0  \\right\\} \\right] \\\\\n",
    "  &\\propto& \\sigma^{-2 \\left[ \\left(n_0 + n + K \\right) /2 + 1 \\right]} \n",
    "    \\exp \\left[ -\\frac{\\sigma^{-2}}{2} \\left\\{\\\\\n",
    "    \\boldsymbol{ \\left\\{\\beta^\\prime - \\left( \\hat{\\beta}^\\prime X^\\prime X + b_0^\\prime B_0^{-1} \\right) \\left( X^\\prime X + B_0^{-1} \\right)^{-1} \\right\\} \\left( X^\\prime X + B_0^{-1} \\right) \\left\\{ \\beta - \\left( X^\\prime X + B_0^{-1} \\right)^{-1} \\left( X^\\prime X\\hat{\\beta} + B_0^{-1} b_0 \\right) \\right\\} \\\\\n",
    "    + \\left\\{ y^\\prime - \\left( \\hat{\\beta}^\\prime X^\\prime X + b_0^\\prime B_0^{-1} \\right)\\left( X^\\prime X + B_0^{-1} \\right)^{-1} X^\\prime \\right\\} y \\\\\n",
    "    + \\left\\{ b_0^\\prime - \\left( \\hat{\\beta}^\\prime X^\\prime X + b_0^\\prime B_0^{-1} \\right)\\left( X^\\prime X + B_0^{-1} \\right)^{-1} \\right\\} B_0^{-1} b_0 } \\\\\n",
    "    + \\boldsymbol{ y^\\prime X \\hat{\\beta} - y^\\prime X\\hat{\\beta} - \\hat{\\beta}^\\prime X^\\prime y + \\hat{\\beta}^\\prime  X^\\prime y } + n_0S_0  \\right\\} \\right] \\\\\n",
    "  &\\propto& \\sigma^{-2 \\left[ \\left(n_0 + n + K \\right) /2 + 1 \\right]} \n",
    "    \\exp \\left[ -\\frac{\\sigma^{-2}}{2} \\left\\{\\\\\n",
    "    \\boldsymbol{ \\left\\{\\beta^\\prime - \\left( \\hat{\\beta}^\\prime X^\\prime X + b_0^\\prime B_0^{-1} \\right) \\left( X^\\prime X + B_0^{-1} \\right)^{-1} \\right\\} \\left( X^\\prime X + B_0^{-1} \\right) \\left\\{ \\beta - \\left( X^\\prime X + B_0^{-1} \\right)^{-1} \\left( X^\\prime X\\hat{\\beta} + B_0^{-1} b_0 \\right) \\right\\} \\\\\n",
    "    + \\left\\{ y^\\prime - \\left( \\hat{\\beta}^\\prime X^\\prime X + b_0^\\prime B_0^{-1} \\right)\\left( X^\\prime X + B_0^{-1} \\right)^{-1} X^\\prime \\right\\} y \\\\\n",
    "    + \\left\\{ b_0^\\prime - \\left( \\hat{\\beta}^\\prime X^\\prime X + b_0^\\prime B_0^{-1} \\right)\\left( X^\\prime X + B_0^{-1} \\right)^{-1} \\right\\} B_0^{-1} b_0 }\\\\\n",
    "    + n_0S_0  \\right\\} \\right] \\\\\n",
    "  &\\propto& \\sigma^{-2 \\left[ \\left(n_1 + K \\right) /2 + 1 \\right]} \n",
    "    \\exp \\left[ -\\frac{\\sigma^{-2}}{2} \n",
    "    \\left\\{ \\boldsymbol{ \\left( \\beta^\\prime - b_1^\\prime \\right) B_1^{-1} \\left( \\beta - b_1 \\right) + \\left( y^\\prime - b_1^\\prime X^\\prime \\right) y + \\left( b_0^\\prime - b_1^\\prime \\right) B_0^{-1} b_0 } + n_0S_0  \\right\\} \\right] \\\\\n",
    "  &\\propto& \\sigma^{-2 \\left[ \\left(n_1 + K \\right) /2 + 1 \\right]} \n",
    "    \\exp \\left[ -\\frac{\\sigma^{-2}}{2} \n",
    "    \\left\\{ \\boldsymbol{ \\left( \\beta - b_1 \\right)^\\prime B_1^{-1} \\left( \\beta - b_1 \\right) + \\left( y - X b_1 \\right)^\\prime y + \\left( b_0 - b_1 \\right)^\\prime B_0^{-1} b_0 } + n_0S_0  \\right\\} \\right] \\\\\n",
    "  &\\propto& \\sigma^{-2 \\left[ \\left(n_1 + K \\right) /2 + 1 \\right]} \n",
    "    \\exp \\left[ -\\frac{\\sigma^{-2}}{2} \n",
    "    \\left\\{ \\boldsymbol{ \\left( \\beta - b_1 \\right)^\\prime B_1^{-1} \\left( \\beta - b_1 \\right) } + n_1S_1  \\right\\} \\right] \\\\\n",
    "\\end{eqnarray}\n",
    "$$\n",
    "\n",
    "　　　ここで、\n",
    "$$\n",
    "\\begin{eqnarray}\n",
    "  \\boldsymbol{b_1} &=& \\boldsymbol{\\left( X^\\prime X + B_0^{-1} \\right)^{-1} \\left( X^\\prime X\\hat{\\beta} + B_0^{-1} b_0 \\right)},  \\\\\n",
    "  \\boldsymbol{B_1^{-1}} &=& \\boldsymbol{\\left( X^\\prime X + B_0^{-1} \\right)}, \\\\\n",
    "  n_1 &=& n_0 +n, \\\\\n",
    "  n_1 S_1  &=& n_0S_0 + \\boldsymbol{\\left( y - X b_1 \\right)^\\prime y + \\left( b_0 - b_1 \\right)^\\prime B_0^{-1} b_0} \n",
    "\\end{eqnarray}\n",
    "$$"
   ]
  },
  {
   "cell_type": "markdown",
   "metadata": {},
   "source": [
    "#### 2.4.2 周辺事後分布\n",
    "##### 2.4.2.1 分散（$\\sigma^2$）\n",
    "$$\n",
    "\\begin{eqnarray}\n",
    "  \\pi \\left( \\sigma^2 \\mid y \\right) &=& \\int_{-\\infty}^\\infty \\pi \\left( \\beta,\\sigma^2 \\mid y \\right) d\\beta \\\\\n",
    "  &\\propto& \\int_{-\\infty}^\\infty \\sigma^{-2 \\left[ \\left(n_1 + K \\right) /2 + 1 \\right]} \n",
    "    \\exp \\left[ -\\frac{\\sigma^{-2}}{2} \n",
    "    \\left\\{ \\boldsymbol{ \\left( \\beta - b_1 \\right)^\\prime B_1^{-1} \\left( \\beta - b_1 \\right) } + n_1S_1  \\right\\} \\right] d\\beta \\\\\n",
    "  &\\propto& \\sigma^{-2 \\left( n_1 /2 + 1 \\right)} \\exp \\left[ -\\frac{\\sigma^{-2}}{2} n_1S_1 \\right] \\\\\n",
    "  & & \\times  \\left(\\sigma^2\\right)^{-K/2}  \n",
    "    \\int_{-\\infty}^\\infty  \n",
    "    \\exp \\left[ -\\frac{\\sigma^{-2}}{2} \n",
    "    \\left\\{ \\boldsymbol{ \\left( \\beta - b_1 \\right)^\\prime B_1^{-1} \\left( \\beta - b_1 \\right) } \\right\\} \\right] d\\beta \\\\\n",
    "  &\\propto& \\sigma^{-2 \\left( n_1 /2 + 1 \\right)} \\exp \\left[ -\\frac{\\sigma^{-2}}{2} n_1S_1 \\right] \\\\\n",
    "  & & \\times \\left( 2\\pi \\right)^{K/2}\n",
    "    \\underbrace{ \\left( 2\\pi \\right)^{-K/2} \\left(\\sigma^2\\right)^{-K/2}  \n",
    "                 \\int_{-\\infty}^\\infty  \n",
    "                 \\exp \\left[ -\\frac{\\sigma^{-2}}{2} \n",
    "                 \\left\\{ \\boldsymbol{ \\left( \\beta - b_1 \\right)^\\prime B_1^{-1} \\left( \\beta - b_1 \\right) } \\right\\} \\right] d\\beta }_{1（∵多変量正規分布の密度関数の積分）} \\\\\n",
    "  &\\propto& \\left( 2\\pi \\right)^{K/2} \\sigma^{-2 \\left( n_1 /2 + 1 \\right)} \\exp \\left[ -\\frac{\\sigma^{-2}}{2} n_1S_1  \\right] \\\\\n",
    "  &\\propto& \\left(\\sigma^2\\right)^{-\\left( n_1 /2 + 1 \\right)} \\exp \\left[ -\\frac{n_1S_1}{2} \\sigma^{-2}  \\right] \\\\\n",
    "  \\Leftrightarrow \\sigma^2 \\mid y &\\sim& \\mathcal{IG} \\left( \\frac{n_1}{2}, \\frac{n_1S_1}{2} \\right)\n",
    "\\end{eqnarray}\n",
    "$$"
   ]
  },
  {
   "cell_type": "markdown",
   "metadata": {},
   "source": [
    "##### 2.4.2.2 回帰係数（$\\beta$）\n",
    "$$\n",
    "\\begin{eqnarray}\n",
    "  \\pi \\left( \\beta \\mid y \\right) &=& \\int_{0}^\\infty \\pi \\left( \\beta,\\sigma^2 \\mid y \\right) d\\sigma^2 \\\\\n",
    "    &\\propto& \\int_{0}^\\infty \\sigma^{-2 \\left[ \\left(n_1 + K \\right) /2 + 1 \\right]} \n",
    "    \\exp \\left[ -\\frac{\\sigma^{-2}}{2} \n",
    "    \\left\\{ \\boldsymbol{ \\left( \\beta - b_1 \\right)^\\prime B_1^{-1} \\left( \\beta - b_1 \\right) } + n_1S_1  \\right\\} \\right] d\\sigma^2 \\\\\n",
    "    &\\propto& \\frac{\\left(\\frac{\\left(\\beta-b_1\\right)^\\prime B_1^{-1} \\left(\\beta-b_1\\right) + n_1S_1}{2}\\right)^{-(n_1+K)/2}}{\\Gamma \\left(\\frac{n_1+K}{2}\\right)^{-1}} \\\\\n",
    "    & & \\times\n",
    "     \\underbrace{\n",
    "       \\frac{\\left(\\frac{\\left(\\beta-b_1\\right)^\\prime B_1^{-1} \\left(\\beta-b_1\\right) + n_1S_1}{2}\\right)^{(n_1+K)/2}}{\\Gamma \\left(\\frac{n_1+K}{2}\\right)}\n",
    "       \\int_{0}^\\infty \\sigma^{-2 \\left[ \\left(n_1 + K \\right) /2 + 1 \\right]} \n",
    "       \\exp \\left[ -\\frac{\\sigma^{-2}}{2} \n",
    "       \\left\\{ \\boldsymbol{ \\left( \\beta - b_1 \\right)^\\prime B_1^{-1} \\left( \\beta - b_1 \\right) } + n_1S_1  \\right\\} \\right] d\\sigma^2\n",
    "     }_{1（∵逆ガンマ分布の密度関数の積分）}\\\\\n",
    "    &\\propto& \\frac{\\left(\\frac{\\left(\\beta-b_1\\right)^\\prime B_1^{-1} \\left(\\beta-b_1\\right) + n_1S_1}{2}\\right)^{-(n_1+K)/2}}{\\Gamma \\left(\\frac{n_1+K}{2}\\right)^{-1}} \\\\\n",
    "    &\\propto& \\left(\\frac{\\left(\\beta-b_1\\right)^\\prime B_1^{-1} \\left(\\beta-b_1\\right) + n_1S_1}{2}\\right)^{-(n_1+K)/2} \\\\\n",
    "    &\\propto& \\left( \\frac{n_1S_1}{2}\\right)^{-(n_1+K)/2}\n",
    "     \\left( 1+ \\frac{\\left(\\beta-b_1\\right)^\\prime B_1^{-1} \\left(\\beta-b_1\\right)}{n_1S_1}\\right)^{-(n_1+K)/2} \\\\\n",
    "    &\\propto& \\left( 1+ \\frac{\\left(\\beta-b_1\\right)^\\prime B_1^{-1} \\left(\\beta-b_1\\right)}{n_1S_1}\\right)^{-(n_1+K)/2} \\\\\n",
    "  \\Leftrightarrow \\beta \\mid y &\\sim& \\mathcal{T_{n_1}} \\left(b_1,S_1B_1\\right)\n",
    "\\end{eqnarray}\n",
    "$$ "
   ]
  },
  {
   "cell_type": "markdown",
   "metadata": {},
   "source": [
    "### 2.5 データ分析\n",
    "#### 2.5.1 事前分布の設定\n",
    "##### 2.5.1.1 回帰係数（$\\beta$）"
   ]
  },
  {
   "cell_type": "code",
   "execution_count": 7,
   "metadata": {
    "collapsed": false
   },
   "outputs": [],
   "source": [
    "K = columns(X);\n",
    "b0 = zeros(K,1);\n",
    "B0 = 1000*eye(K);"
   ]
  },
  {
   "cell_type": "markdown",
   "metadata": {},
   "source": [
    "##### 2.5.1.2 分散（$\\sigma^2$）"
   ]
  },
  {
   "cell_type": "code",
   "execution_count": 8,
   "metadata": {
    "collapsed": true
   },
   "outputs": [],
   "source": [
    "n0 = 0.002;\n",
    "n0S0 = 0.002;"
   ]
  },
  {
   "cell_type": "markdown",
   "metadata": {},
   "source": [
    "#### 2.5.2 周辺事後分布の計算\n",
    "##### 2.5.2.1 準備"
   ]
  },
  {
   "cell_type": "code",
   "execution_count": 9,
   "metadata": {
    "collapsed": true
   },
   "outputs": [],
   "source": [
    "B1 = inv(X'*X + inv(B0));\n",
    "b1 = B1 * (X'*X*b_hat + inv(B0)*b0);\n",
    "n1 = n0 + n;\n",
    "n1S1 = n0S0 + (y-X*b1)'*y + (b0-b1)'*inv(B0)*b0;\n",
    "S1 = n1S1/n1;"
   ]
  },
  {
   "cell_type": "markdown",
   "metadata": {},
   "source": [
    "##### 2.5.2.2 回帰係数（$\\beta$）\n",
    "* 2.5.2.2.1 平均値（$b_1$）\n",
    "    * （参考）OLSの推計値（$\\hat{\\beta}$）"
   ]
  },
  {
   "cell_type": "code",
   "execution_count": 10,
   "metadata": {
    "collapsed": false
   },
   "outputs": [
    {
     "name": "stdout",
     "output_type": "stream",
     "text": [
      "b1 =\n",
      "  -6.1559e+003\n",
      "  1.2200e+004\n",
      "b_hat =\n",
      "  -6.1576e+003\n",
      "  1.2201e+004\n"
     ]
    }
   ],
   "source": [
    "b1\n",
    "b_hat"
   ]
  },
  {
   "cell_type": "markdown",
   "metadata": {},
   "source": [
    "* 2.5.2.2.2 平均値周辺の分布"
   ]
  },
  {
   "cell_type": "code",
   "execution_count": 11,
   "metadata": {
    "collapsed": false
   },
   "outputs": [
    {
     "name": "stdout",
     "output_type": "stream",
     "text": [
      "beta_post_dens =\n",
      "  5.0354e-008  5.0870e-008  5.1126e-008  5.1117e-008  5.0843e-008\n",
      "  5.0503e-008  5.0960e-008  5.1154e-008  5.1083e-008  5.0748e-008\n",
      "  5.0635e-008  5.1030e-008  5.1163e-008  5.1030e-008  5.0635e-008\n",
      "  5.0748e-008  5.1083e-008  5.1154e-008  5.0960e-008  5.0503e-008\n",
      "  5.0843e-008  5.1117e-008  5.1126e-008  5.0870e-008  5.0354e-008\n",
      "beta_post_dens_bhat =   5.1163e-008\n",
      "beta_post_dens_b1 =   5.1163e-008\n"
     ]
    }
   ],
   "source": [
    "beta_domain = linspace(b1-abs(b1/100),b1+abs(b1/100),5);\n",
    "beta_post_dens = zeros(5,5);\n",
    "\n",
    "for i = 1:5\n",
    "    for j = 1:5\n",
    "        beta = [beta_domain(1,i);beta_domain(2,j)];\n",
    "        beta_post_dens(i,j) = (1 + (beta-b1)'*inv(B1)*(beta-b1)/n1S1) ^ (-(n1+K)/2);\n",
    "        beta_post_dens(i,j) = beta_post_dens(i,j) * gamma((n1+K)/2) / gamma(n1/2);\n",
    "        beta_post_dens(i,j) = beta_post_dens(i,j) * (pi*n1)^(-K/2) * det(S1*B1)^(-1/2);\n",
    "    endfor\n",
    "endfor\n",
    "\n",
    "beta_post_dens_bhat = (1 + (b_hat-b1)'*inv(B1)*(b_hat-b1)/n1S1) ^ (-(n1+K)/2);\n",
    "beta_post_dens_bhat = beta_post_dens_bhat * gamma((n1+K)/2) / gamma(n1/2);\n",
    "beta_post_dens_bhat = beta_post_dens_bhat * (pi*n1)^(-K/2) * det(S1*B1)^(-1/2);\n",
    "\n",
    "beta_post_dens_b1 = (1 + (b1-b1)'*inv(B1)*(b1-b1)/n1S1) ^ (-(n1+K)/2);\n",
    "beta_post_dens_b1 = beta_post_dens_b1 * gamma((n1+K)/2) / gamma(n1/2);\n",
    "beta_post_dens_b1 = beta_post_dens_b1 * (pi*n1)^(-K/2) * det(S1*B1)^(-1/2);\n",
    "\n",
    "beta_post_dens\n",
    "beta_post_dens_bhat\n",
    "beta_post_dens_b1"
   ]
  },
  {
   "cell_type": "markdown",
   "metadata": {
    "collapsed": true
   },
   "source": [
    "##### 2.5.2.3 分散（$\\sigma^2$）\n",
    "* 平均値"
   ]
  },
  {
   "cell_type": "code",
   "execution_count": 12,
   "metadata": {
    "collapsed": false
   },
   "outputs": [
    {
     "name": "stdout",
     "output_type": "stream",
     "text": [
      "sigma2_mean =   8.9865e+007\n"
     ]
    }
   ],
   "source": [
    "sigma2_mean = (n1S1/2)/(n1/2-1)"
   ]
  },
  {
   "cell_type": "markdown",
   "metadata": {},
   "source": [
    "* 分散"
   ]
  },
  {
   "cell_type": "code",
   "execution_count": 13,
   "metadata": {
    "collapsed": false
   },
   "outputs": [
    {
     "name": "stdout",
     "output_type": "stream",
     "text": [
      "sigma2_var =   6.2116e+014\n"
     ]
    }
   ],
   "source": [
    "sigma2_var = (n1S1/2)^2/((n1/2-1)^2)/(n1/2-2)"
   ]
  },
  {
   "cell_type": "markdown",
   "metadata": {},
   "source": [
    "* 分布"
   ]
  },
  {
   "cell_type": "code",
   "execution_count": 14,
   "metadata": {
    "collapsed": false
   },
   "outputs": [
    {
     "data": {
      "image/png": "[encoded data removed]",
      "text/plain": [
       "<IPython.core.display.Image object>"
      ]
     },
     "metadata": {},
     "output_type": "display_data"
    }
   ],
   "source": [
    "sigma2_domain = linspace(sigma2_mean-2*(sigma2_var)^(1/2),sigma2_mean+2*(sigma2_var)^(1/2),100);\n",
    "sigma2_post_dens = zeros(100,1);\n",
    "\n",
    "for i = 1:100\n",
    "        sigma2_post_dens(i) = exp(-(n1S1/2)*sigma2_domain(i)^(-1));\n",
    "        sigma2_post_dens(i) = sigma2_post_dens(i) * sigma2_domain(i)^(-(n1/2+1));\n",
    "        sigma2_post_dens(i) = sigma2_post_dens(i) * (n1S1/2)^(n1/2)/gamma(n1/2);\n",
    "endfor\n",
    "\n",
    "plot(sigma2_domain,sigma2_post_dens)"
   ]
  }
 ],
 "metadata": {
  "gist": {
   "data": {
    "description": "Octave/Bayes_text/regression.ipynb",
    "public": false
   },
   "id": ""
  },
  "kernelspec": {
   "display_name": "Octave",
   "language": "octave",
   "name": "octave_kernel"
  },
  "language_info": {
   "file_extension": ".m",
   "help_links": [
    {
     "text": "MetaKernel Magics",
     "url": "https://github.com/calysto/metakernel/blob/master/metakernel/magics/README.md"
    }
   ],
   "mimetype": "text/x-octave",
   "name": "octave",
   "version": "0.16.0"
  },
  "nav_menu": {}
 },
 "nbformat": 4,
 "nbformat_minor": 0
}
